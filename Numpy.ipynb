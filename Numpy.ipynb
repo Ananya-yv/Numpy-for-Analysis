{
 "cells": [
  {
   "cell_type": "markdown",
   "id": "c8e3a28a-cf79-4e88-991a-c76787365fb5",
   "metadata": {},
   "source": [
    "# Numpy for Data Science\n",
    "Numpy(numerical python) is a module that provides:\n",
    "- Data strauctures like multidimentional arrays.\n",
    "- Mathematical functions for fast operations without writing loops.\n",
    "- Faster operations as it is built on C API."
   ]
  },
  {
   "cell_type": "markdown",
   "id": "29d8f3cd-d60a-47f4-a5b0-6baa22c4be4e",
   "metadata": {},
   "source": [
    "<br>\n",
    "<br>\n",
    "<br>"
   ]
  },
  {
   "cell_type": "markdown",
   "id": "ab9723eb-2b2b-415a-a0bb-17af0f87cf44",
   "metadata": {},
   "source": [
    "## Basics:"
   ]
  },
  {
   "cell_type": "markdown",
   "id": "2cd972c4-9a57-4885-a1f2-fb72ce073465",
   "metadata": {},
   "source": [
    "### Install Numpy:\n",
    "To install numpy in your system, run the below command."
   ]
  },
  {
   "cell_type": "raw",
   "id": "2deb38cb-a122-4517-b679-c2c9e7b69675",
   "metadata": {},
   "source": [
    "pip install numpy"
   ]
  },
  {
   "cell_type": "markdown",
   "id": "d7c70876-e35f-4e5f-863d-e1af2667c076",
   "metadata": {},
   "source": [
    "### Import numpy\n",
    "Import numpy with an alias 'np'"
   ]
  },
  {
   "cell_type": "code",
   "execution_count": 1,
   "id": "ae823b14-7164-4a76-9659-78c508980e94",
   "metadata": {},
   "outputs": [],
   "source": [
    "import numpy as np"
   ]
  },
  {
   "cell_type": "markdown",
   "id": "673b143c-8d00-4be7-8e0a-dd745569680d",
   "metadata": {},
   "source": [
    "<br>\n",
    "<br>\n",
    "<br>"
   ]
  },
  {
   "cell_type": "markdown",
   "id": "c76486d4-4145-4995-8843-4dc2b2edf5f9",
   "metadata": {},
   "source": [
    "## Numpy Arrays\n",
    "The numpy arrays are multidimrntional objects that allow mathematical operations on blocks of data without using loops, i.e, operations on arrays can be performed with similar syntaxes to the operations between scalar elelments."
   ]
  },
  {
   "cell_type": "markdown",
   "id": "56285c29-dfb6-478c-9481-89a5b79bb2ff",
   "metadata": {},
   "source": [
    "### Creating Numpy 1D arrays:\n",
    "Numpy arrays can be created in various ways:"
   ]
  },
  {
   "cell_type": "code",
   "execution_count": 2,
   "id": "d8ce8db2-498c-4587-ab1c-49cac9f08049",
   "metadata": {},
   "outputs": [
    {
     "data": {
      "text/plain": [
       "array([1, 2, 3, 4, 5, 6], dtype=int64)"
      ]
     },
     "execution_count": 2,
     "metadata": {},
     "output_type": "execute_result"
    }
   ],
   "source": [
    "# using the np.array() function:\n",
    "data= np.array([1,2,3,4,5,6],dtype='int64')\n",
    "data"
   ]
  },
  {
   "cell_type": "markdown",
   "id": "5cbc5cf7-1a5a-4ca3-847c-da1e07ced7a6",
   "metadata": {},
   "source": [
    "The np.array() function accepts any type of sequence object and creates a numpy array with its elements."
   ]
  },
  {
   "cell_type": "code",
   "execution_count": 3,
   "id": "314e6b49-1944-4452-a8b8-e9ab80ae3a10",
   "metadata": {},
   "outputs": [
    {
     "data": {
      "text/plain": [
       "array([1, 3, 5, 7, 9])"
      ]
     },
     "execution_count": 3,
     "metadata": {},
     "output_type": "execute_result"
    }
   ],
   "source": [
    "# using the np.arange() function:\n",
    "data2= np.arange(1,10,2)\n",
    "data2"
   ]
  },
  {
   "cell_type": "markdown",
   "id": "21c9d371-bdd5-4fe2-a012-dba260379277",
   "metadata": {},
   "source": [
    "The np.arange() function accepts an interval of integers and returns an evenly spaced array of integers from the interval. The space can be specified by the 'step' parameter. The values in the array are in the open interval (start,stop)."
   ]
  },
  {
   "cell_type": "code",
   "execution_count": 4,
   "id": "41ce2cb4-ad28-4fe3-ab8a-66aabab2bc4c",
   "metadata": {},
   "outputs": [
    {
     "data": {
      "text/plain": [
       "array([0., 0., 0., 0., 0.])"
      ]
     },
     "execution_count": 4,
     "metadata": {},
     "output_type": "execute_result"
    }
   ],
   "source": [
    "# other options.\n",
    "# np.zeros()\n",
    "zero=np.zeros(5)\n",
    "zero"
   ]
  },
  {
   "cell_type": "code",
   "execution_count": 5,
   "id": "db7424c4-ca58-4295-a727-6d5e2007a925",
   "metadata": {},
   "outputs": [
    {
     "data": {
      "text/plain": [
       "array([1., 1., 1., 1., 1., 1., 1., 1.])"
      ]
     },
     "execution_count": 5,
     "metadata": {},
     "output_type": "execute_result"
    }
   ],
   "source": [
    "# np.ones()\n",
    "one=np.ones(8)\n",
    "one"
   ]
  },
  {
   "cell_type": "markdown",
   "id": "3aca16ac-38f4-4485-9cc5-04ca9bc0521e",
   "metadata": {},
   "source": [
    "### Creating Numpy Multidimentional arrays:\n",
    "Numpy multidimentional arrays can be created using nested lists or by using the arr.reshape() function."
   ]
  },
  {
   "cell_type": "code",
   "execution_count": 6,
   "id": "5e8b84ad-91dc-4be6-b362-b638d1225a8b",
   "metadata": {},
   "outputs": [
    {
     "data": {
      "text/plain": [
       "array([[ 1,  2,  3,  4],\n",
       "       [ 5,  6,  7,  8],\n",
       "       [ 9, 10, 11, 12]])"
      ]
     },
     "execution_count": 6,
     "metadata": {},
     "output_type": "execute_result"
    }
   ],
   "source": [
    "# Nested lists\n",
    "data=np.array([[1,2,3,4],[5,6,7,8],[9,10,11,12]])\n",
    "data"
   ]
  },
  {
   "cell_type": "code",
   "execution_count": 7,
   "id": "99fb78ac-5b3d-49a7-b6ba-c78ce5894d27",
   "metadata": {},
   "outputs": [
    {
     "data": {
      "text/plain": [
       "array([[ 1,  3,  5,  7,  9],\n",
       "       [11, 13, 15, 17, 19]])"
      ]
     },
     "execution_count": 7,
     "metadata": {},
     "output_type": "execute_result"
    }
   ],
   "source": [
    "# arr.rashape()\n",
    "data2=np.arange(1,20,2).reshape((2,5))\n",
    "data2"
   ]
  },
  {
   "cell_type": "markdown",
   "id": "0f39b29e-75d8-47b2-ae4e-2a24406b7fff",
   "metadata": {},
   "source": [
    "### Properties of an array"
   ]
  },
  {
   "cell_type": "code",
   "execution_count": 8,
   "id": "f7880451-a395-4b1c-8039-8b999879a491",
   "metadata": {},
   "outputs": [
    {
     "name": "stdout",
     "output_type": "stream",
     "text": [
      "int32\n",
      "(3, 4)\n",
      "2\n",
      "12\n"
     ]
    }
   ],
   "source": [
    "# dtype\n",
    "print(data.dtype)\n",
    "\n",
    "#shape\n",
    "print(data.shape)\n",
    "\n",
    "#ndim\n",
    "print(data.ndim)\n",
    "\n",
    "#size\n",
    "print(data.size)"
   ]
  },
  {
   "cell_type": "markdown",
   "id": "26f690d0-522b-4a06-8eb2-a280e7019fc5",
   "metadata": {},
   "source": [
    "<br>\n",
    "<br>\n",
    "<br>"
   ]
  },
  {
   "cell_type": "markdown",
   "id": "ea65cac6-713e-4513-8cf6-2a0cba4a613a",
   "metadata": {},
   "source": [
    "## Data manipulation using numpy"
   ]
  },
  {
   "cell_type": "markdown",
   "id": "11168449-5bc8-4214-8555-ac2961c1f979",
   "metadata": {},
   "source": [
    "### Arithmetic operations on arrays \n",
    "Arithmetic operations on numpy arrays can be performed with the similar syantaxes fo scalar elements."
   ]
  },
  {
   "cell_type": "code",
   "execution_count": 9,
   "id": "7cd0dad7-3203-41d1-9a35-3901ddbffb74",
   "metadata": {},
   "outputs": [
    {
     "name": "stdout",
     "output_type": "stream",
     "text": [
      "[ 3  7 11 15]\n"
     ]
    }
   ],
   "source": [
    "# on 1D arrays\n",
    "arr1=np.array([2,4,6,8])\n",
    "arr2=np.array([1,3,5,7])\n",
    "print(arr1+arr2)"
   ]
  },
  {
   "cell_type": "markdown",
   "id": "265d060b-b4e4-4df9-a311-bb88e677b3a9",
   "metadata": {},
   "source": [
    "By simply using a '+' operator, addition is performed in between individual elements of both the arrays."
   ]
  },
  {
   "cell_type": "code",
   "execution_count": 10,
   "id": "d8fd2456-1a18-4a89-ad09-56514267329f",
   "metadata": {},
   "outputs": [
    {
     "name": "stdout",
     "output_type": "stream",
     "text": [
      "[[11 13 15 17]\n",
      " [19 21 23 25]]\n"
     ]
    }
   ],
   "source": [
    "# on multidimentional arrays\n",
    "arr1=np.array([[1,2,3,4],[5,6,7,8]])\n",
    "arr2=np.array([[10,11,12,13],[14,15,16,17]])\n",
    "print(arr1+arr2)"
   ]
  },
  {
   "cell_type": "code",
   "execution_count": 11,
   "id": "c9c3fcd3-3fc0-4701-b98a-5ede1ac030d1",
   "metadata": {},
   "outputs": [
    {
     "name": "stdout",
     "output_type": "stream",
     "text": [
      "[[11 13 15 17]\n",
      " [21 23 25 27]]\n"
     ]
    }
   ],
   "source": [
    "# arrays of different dimentions\n",
    "arr1=np.array([1,2,3,4])\n",
    "arr2=np.array([[10,11,12,13],[20,21,22,23]])\n",
    "print(arr1+arr2)"
   ]
  },
  {
   "cell_type": "markdown",
   "id": "339f32d8-1c76-4909-af81-26e687e1c7d6",
   "metadata": {},
   "source": [
    "When performing arithmetic between arrays of different dimentions, the smaller array to be ‘broadcast’ across the larger one, ensuring that they have compatible shapes for these operations. This ability of numpy arrays is called 'Broadcasting'."
   ]
  },
  {
   "cell_type": "markdown",
   "id": "865cf7bd-b36d-43a4-9a3b-ec059660701b",
   "metadata": {},
   "source": [
    "### Array Indexing and slicing"
   ]
  },
  {
   "cell_type": "code",
   "execution_count": 12,
   "id": "de6084a5-d379-43df-bd49-7bfb411d5e63",
   "metadata": {},
   "outputs": [
    {
     "name": "stdout",
     "output_type": "stream",
     "text": [
      "[2 3 6 6 9 2 6 1 7 9 4 5 7 3 5 3 8 5 9 2]\n"
     ]
    }
   ],
   "source": [
    "arr= np.random.randint(1,10,20)\n",
    "print(arr)"
   ]
  },
  {
   "cell_type": "code",
   "execution_count": 13,
   "id": "def7a10a-e3c2-44f7-aada-dcab071784d2",
   "metadata": {},
   "outputs": [
    {
     "name": "stdout",
     "output_type": "stream",
     "text": [
      "6\n",
      "2\n",
      "2\n",
      "4\n"
     ]
    }
   ],
   "source": [
    "#indexing\n",
    "print(arr[3]) #9\n",
    "print(arr[5]) #7\n",
    "\n",
    "# negative indexing\n",
    "print(arr[-1]) #2\n",
    "print(arr[-10]) #6"
   ]
  },
  {
   "cell_type": "code",
   "execution_count": 14,
   "id": "01783f6b-54ac-4c76-892b-6d541f554448",
   "metadata": {},
   "outputs": [
    {
     "name": "stdout",
     "output_type": "stream",
     "text": [
      "[2 3 6 6 9 2 6 1 7 9 4 5 7 3 5 3 8 5 9 2]\n",
      "[2 6 1 7 9]\n",
      "[2 3 6 6 9 2 6 1 7 9 4 5 7 3 5 3 8 5 9 2]\n",
      "[2 6 1 7 9]\n"
     ]
    }
   ],
   "source": [
    "# Slicing\n",
    "print(arr[0:]) # print the whole array\n",
    "print(arr[5:10]) #print the array from index 5 to 9\n",
    "print(arr[-20:]) # print the whole array using negative indexing\n",
    "print(arr[-15:-10]) #print the array from index -10 to -15 (5 to 9)"
   ]
  },
  {
   "cell_type": "markdown",
   "id": "aa42a84b-89db-4953-85ce-a56375247607",
   "metadata": {},
   "source": [
    "<br>\n",
    "<br>\n",
    "<br>"
   ]
  },
  {
   "cell_type": "markdown",
   "id": "9633575b-5397-4e98-bb9b-d51a39ba89cb",
   "metadata": {},
   "source": [
    "## Data Aggregation using Numpy\n",
    "Numpy provides various aggregate functions that allow you to perform computations across the entire array or along a specified axis. "
   ]
  },
  {
   "cell_type": "code",
   "execution_count": 15,
   "id": "f1967316-ac98-4e35-b6ab-cbd4435e83b8",
   "metadata": {},
   "outputs": [
    {
     "name": "stdout",
     "output_type": "stream",
     "text": [
      "[[30  6 62 92]\n",
      " [54 84  9 75]\n",
      " [40 48 71  7]\n",
      " [ 6 80 49 16]\n",
      " [80 17 38 33]]\n"
     ]
    }
   ],
   "source": [
    "arr= np.random.randint(1,100,(5,4))\n",
    "print(arr)"
   ]
  },
  {
   "cell_type": "markdown",
   "id": "82ce0ea8-fdc7-4817-93d7-c2a95a42b4a2",
   "metadata": {},
   "source": [
    "#### np.sum()"
   ]
  },
  {
   "cell_type": "code",
   "execution_count": 16,
   "id": "7b78307d-4edd-4131-ba1c-c5c8c0a0f23a",
   "metadata": {},
   "outputs": [
    {
     "name": "stdout",
     "output_type": "stream",
     "text": [
      "897\n",
      "[190 222 166 151 168]\n",
      "[210 235 229 223]\n"
     ]
    }
   ],
   "source": [
    "print(np.sum(arr))   # sum all the elements in the array \n",
    "print(np.sum(arr,axis=1))  # row wise sum\n",
    "print(np.sum(arr,axis=0))  # column wise sum"
   ]
  },
  {
   "cell_type": "markdown",
   "id": "d01bf441-597f-473d-bd8c-09dcce4c88a5",
   "metadata": {},
   "source": [
    "#### np.mean()"
   ]
  },
  {
   "cell_type": "code",
   "execution_count": 17,
   "id": "af34351e-a62e-4e1a-bd36-0f58663e3f2d",
   "metadata": {},
   "outputs": [
    {
     "name": "stdout",
     "output_type": "stream",
     "text": [
      "44.85\n",
      "[47.5  55.5  41.5  37.75 42.  ]\n",
      "[42.  47.  45.8 44.6]\n"
     ]
    }
   ],
   "source": [
    "print(np.mean(arr))   # mean of all the elements in the array \n",
    "print(np.mean(arr,axis=1))  # row wise mean\n",
    "print(np.mean(arr,axis=0))  # column wise mean"
   ]
  },
  {
   "cell_type": "markdown",
   "id": "0830e4f7-99c6-42c1-8984-b96c59d5f00d",
   "metadata": {},
   "source": [
    "#### np.min()"
   ]
  },
  {
   "cell_type": "code",
   "execution_count": 18,
   "id": "06bcb823-d521-4d85-913a-ca6a11287eb0",
   "metadata": {},
   "outputs": [
    {
     "name": "stdout",
     "output_type": "stream",
     "text": [
      "6\n",
      "[ 6  9  7  6 17]\n",
      "[6 6 9 7]\n"
     ]
    }
   ],
   "source": [
    "print(np.min(arr))   # minimum of all the elements in the array \n",
    "print(np.min(arr,axis=1))  # row wise minimum\n",
    "print(np.min(arr,axis=0))  # column wise minimum"
   ]
  },
  {
   "cell_type": "markdown",
   "id": "2b43bb8d-af92-47b1-9143-deee45b97dc2",
   "metadata": {},
   "source": [
    "#### np.max()"
   ]
  },
  {
   "cell_type": "code",
   "execution_count": 19,
   "id": "03bcd1ab-b9f6-457e-89b7-b1c093e0aa0c",
   "metadata": {},
   "outputs": [
    {
     "name": "stdout",
     "output_type": "stream",
     "text": [
      "92\n",
      "[92 84 71 80 80]\n",
      "[80 84 71 92]\n"
     ]
    }
   ],
   "source": [
    "print(np.max(arr))   # maximum of all the elements in the array \n",
    "print(np.max(arr,axis=1))  # row wise maximum\n",
    "print(np.max(arr,axis=0))  # column wise maximum"
   ]
  },
  {
   "cell_type": "markdown",
   "id": "09853d45-73dd-4ee8-86a1-fa23a675d452",
   "metadata": {},
   "source": [
    "#### np.median()"
   ]
  },
  {
   "cell_type": "code",
   "execution_count": 20,
   "id": "ad976498-bfe2-4a93-9b83-7eba869fed5a",
   "metadata": {},
   "outputs": [
    {
     "name": "stdout",
     "output_type": "stream",
     "text": [
      "44.0\n",
      "[46.  64.5 44.  32.5 35.5]\n",
      "[40. 48. 49. 33.]\n"
     ]
    }
   ],
   "source": [
    "print(np.median(arr))   # median of all the elements in the array \n",
    "print(np.median(arr,axis=1))  # row wise median\n",
    "print(np.median(arr,axis=0))  # column wise median"
   ]
  },
  {
   "cell_type": "markdown",
   "id": "4826b931-4c0f-4867-bb99-ab294471763e",
   "metadata": {},
   "source": [
    "<br>"
   ]
  },
  {
   "cell_type": "markdown",
   "id": "ccb26066-60d3-4286-842b-86eafd8c2cff",
   "metadata": {},
   "source": [
    "Other available aggragate functions:\n",
    "- **np.std()** : compute standard deviation\n",
    "- **np.var()** : compute variance\n",
    "- **np.percentile()**: compute percentile"
   ]
  },
  {
   "cell_type": "markdown",
   "id": "d011aabe-9438-4bc5-b385-6501cd269a85",
   "metadata": {},
   "source": [
    "<br>\n",
    "<br>\n",
    "<br>"
   ]
  },
  {
   "cell_type": "markdown",
   "id": "16305c42-18fe-408d-8772-5d1fedeea081",
   "metadata": {},
   "source": [
    "## Data Analysis using Numpy"
   ]
  },
  {
   "cell_type": "markdown",
   "id": "f1245610-dca3-48d8-88f2-4cbbec51da74",
   "metadata": {},
   "source": [
    "We can use NumPy to perform data analysis tasks such as finding correlations, identifying outliers, and calculating percentiles.\n",
    "Consider a large arrays with about 100 elements."
   ]
  },
  {
   "cell_type": "code",
   "execution_count": 21,
   "id": "2f5b9232-e507-4923-9b52-8dcccacad044",
   "metadata": {},
   "outputs": [],
   "source": [
    "arr1=np.random.uniform(1,1000,100)\n",
    "arr2=np.random.uniform(1,1000,100)"
   ]
  },
  {
   "cell_type": "markdown",
   "id": "a17bea1a-be82-455a-b333-97f10e054eba",
   "metadata": {},
   "source": [
    "#### Correlation Coefficient:"
   ]
  },
  {
   "cell_type": "code",
   "execution_count": 22,
   "id": "7acde1b7-04a3-4266-abac-43410e11f0f1",
   "metadata": {},
   "outputs": [
    {
     "name": "stdout",
     "output_type": "stream",
     "text": [
      "Correlation: -0.0637195420782247\n"
     ]
    }
   ],
   "source": [
    "correlation = np.corrcoef(arr1, arr2)[0][1]\n",
    "print(\"Correlation:\", correlation)"
   ]
  },
  {
   "cell_type": "markdown",
   "id": "2d7b6723-d0cd-4ec5-8c8c-2bd478d79dd0",
   "metadata": {},
   "source": [
    "#### Detecting outliers:\n",
    "Outliers are data points that are significantly different from the rest of the data. They can be identified using standard deviation or interquartile range (IQR) methods. Here, we'll use the standard deviation approach. Identifying outliers in arr1 (values more than 1 standard deviations from the mean)"
   ]
  },
  {
   "cell_type": "code",
   "execution_count": 23,
   "id": "73fe119d-de15-4db2-9783-de4e4757b01f",
   "metadata": {},
   "outputs": [
    {
     "name": "stdout",
     "output_type": "stream",
     "text": [
      "Number of outliers in arr1: 44\n"
     ]
    }
   ],
   "source": [
    "mean = np.mean(arr1)\n",
    "std_dev = np.std(arr1)\n",
    "outliers = arr1[np.abs(arr1 - mean) > 1 * std_dev]\n",
    "print(\"Number of outliers in arr1:\", len(outliers))"
   ]
  },
  {
   "cell_type": "markdown",
   "id": "91187e08-2e37-4d00-bfcd-49e1752828d1",
   "metadata": {},
   "source": [
    "#### Calculate Percentiles:\n",
    "Percentiles are used to understand the distribution of data. The nth percentile is the value below which n percent of the data falls."
   ]
  },
  {
   "cell_type": "code",
   "execution_count": 24,
   "id": "204a2b36-593a-48f0-a1c1-33b825932335",
   "metadata": {},
   "outputs": [
    {
     "name": "stdout",
     "output_type": "stream",
     "text": [
      "25th percentile: 202.92492100216782\n",
      "50th percentile (median): 535.7601694466144\n",
      "90th percentile: 860.5243969686566\n"
     ]
    }
   ],
   "source": [
    "percentile_25 = np.percentile(arr1, 25)\n",
    "percentile_50 = np.percentile(arr1, 50)  # Median\n",
    "percentile_90 = np.percentile(arr1, 90)\n",
    "\n",
    "print(\"25th percentile:\", percentile_25)\n",
    "print(\"50th percentile (median):\", percentile_50)\n",
    "print(\"90th percentile:\", percentile_90)"
   ]
  },
  {
   "cell_type": "markdown",
   "id": "5dc7e3ff-4364-4f4c-8aeb-57018c375709",
   "metadata": {},
   "source": [
    "<br>\n",
    "<br>\n",
    "<br>"
   ]
  },
  {
   "cell_type": "markdown",
   "id": "eb92ece5-8517-4203-9ee4-4f30314ee0c8",
   "metadata": {},
   "source": [
    "## Applications of Numpy in Data Science:"
   ]
  },
  {
   "cell_type": "markdown",
   "id": "849e98a8-dc97-41be-acdb-eca937ee881e",
   "metadata": {},
   "source": [
    "### Advantages of Numpy:"
   ]
  },
  {
   "attachments": {
    "e40bf7a7-bdfb-42a9-bd24-fd6a9ff3777f.png": {
     "image/png": "[encoded data removed]"
    }
   },
   "cell_type": "markdown",
   "id": "adb582ef-ef0a-4ba2-a1fc-9b84847c7710",
   "metadata": {},
   "source": [
    "- **Speed**: Compared to traditional python Data structures, Numpy arrays are a lot faster especially for larger datasets. This is because, numpy module is built using the C API which is faster than python.\n",
    "  A graph showing the difference between the spped of numpy and list vs the input size is shown below:\n",
    "  ![image.png](attachment:e40bf7a7-bdfb-42a9-bd24-fd6a9ff3777f.png)"
   ]
  },
  {
   "cell_type": "markdown",
   "id": "52259c4e-5cab-458d-8e05-b646743a36a9",
   "metadata": {},
   "source": [
    "- **Vectorized Computations**: Instead of writing loops to apply operations to each element of an array, NumPy allows you to perform these operations on entire arrays at once.\n",
    "- **View**: View is a Numpy feature that allow the acessing and manipulating a part of an array without copying the data itself.\n",
    "- **Statistical Computations**: Numpy provides various builtin statistical functions that allow easy analysis and computation.\n",
    "- **Broadcasting**: While performing operations between two arrays of different shapes, the smaller array is distributed across the larger one making them compatable for the operation."
   ]
  },
  {
   "cell_type": "markdown",
   "id": "4489515b-f2f2-4eb6-becc-554009bcb7c8",
   "metadata": {},
   "source": [
    "### Applications in Real World:"
   ]
  },
  {
   "cell_type": "markdown",
   "id": "c7104d70-5a71-46c4-a803-ab0d40d933a9",
   "metadata": {},
   "source": [
    "- **Image Processing**: Digital images are represented as multi-dimensional Numpy arrays. Python’s imageio library can be used to read an image file into a Numpy array. Once in this format, Numpy’s array manipulation capabilities can be used to process and manipulate the image.\n",
    "- **Machine Learning**: Most of the mathematical equations can be represented in linear algebra and in matrixes. Fitting curves, finding best fit parameters, dimensionality reduction, robotic motion, protein dynamics .. all can be phrased as matrix operations.\n",
    "- **Financial Analysis**: Most of the mathematical equations can be represented in linear algebra and in matrixes. Fitting curves, finding best fit parameters, dimensionality reduction, robotic motion, protein dynamics .. all can be phrased as matrix operations.\n",
    "  "
   ]
  }
 ],
 "metadata": {
  "kernelspec": {
   "display_name": "Python 3 (ipykernel)",
   "language": "python",
   "name": "python3"
  },
  "language_info": {
   "codemirror_mode": {
    "name": "ipython",
    "version": 3
   },
   "file_extension": ".py",
   "mimetype": "text/x-python",
   "name": "python",
   "nbconvert_exporter": "python",
   "pygments_lexer": "ipython3",
   "version": "3.12.5"
  }
 },
 "nbformat": 4,
 "nbformat_minor": 5
}
